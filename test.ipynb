{
 "cells": [
  {
   "cell_type": "code",
   "execution_count": 15,
   "id": "adea479b",
   "metadata": {},
   "outputs": [],
   "source": [
    "from bohrium_open_sdk import OpenSDK\n",
    "\n",
    "client = OpenSDK(\n",
    "    access_key=\"sk-a3b0a1f43da74883b9656b0185a15439\",\n",
    "    app_key=\"paper-search-demo-uuid1754879195\"\n",
    ")\n"
   ]
  },
  {
   "cell_type": "code",
   "execution_count": null,
   "id": "1c644257",
   "metadata": {},
   "outputs": [
    {
     "data": {
      "text/plain": [
       "{'code': 0, 'data': {'user_id': '1xqrcdi7', 'name': '林杭', 'org_id': 21051}}"
      ]
     },
     "execution_count": 16,
     "metadata": {},
     "output_type": "execute_result"
    }
   ],
   "source": [
    "client.user.get_info()"
   ]
  },
  {
   "cell_type": "code",
   "execution_count": null,
   "id": "9dbedd23",
   "metadata": {},
   "outputs": [],
   "source": []
  }
 ],
 "metadata": {
  "kernelspec": {
   "display_name": "ui",
   "language": "python",
   "name": "python3"
  },
  "language_info": {
   "codemirror_mode": {
    "name": "ipython",
    "version": 3
   },
   "file_extension": ".py",
   "mimetype": "text/x-python",
   "name": "python",
   "nbconvert_exporter": "python",
   "pygments_lexer": "ipython3",
   "version": "3.10.13"
  }
 },
 "nbformat": 4,
 "nbformat_minor": 5
}
